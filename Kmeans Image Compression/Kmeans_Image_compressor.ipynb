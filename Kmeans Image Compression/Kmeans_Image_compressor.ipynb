{
 "cells": [
  {
   "cell_type": "code",
   "execution_count": null,
   "metadata": {},
   "outputs": [],
   "source": [
    "import numpy as np; \n",
    "import matplotlib.pyplot as plt; \n",
    "import matplotlib.image as img; \n",
    "\n",
    "%matplotlib inline\n",
    "\n"
   ]
  },
  {
   "cell_type": "code",
   "execution_count": null,
   "metadata": {},
   "outputs": [],
   "source": [
    "'''Calculates the nearest centroid to each of the data points'''\n",
    "def nearestCentroid(X,centroids):\n",
    "    K = centroids.shape[0]; #numpy array, each centroid should have m axes\n",
    "    axes = X.shape[1]; #the number of axes per data point\n",
    "    n = X.shape[0]; #the total number of datapoints\n",
    "\n",
    "    nearestIndex = np.zeros(X.shape[0],dtype=int); \n",
    "\n",
    "    for i in range(n):\n",
    "        mindex = 0; minVal = np.linalg.norm(X[i] - centroids[0]);\n",
    "        for j in range(1,K):\n",
    "            curSum = np.linalg.norm(x[i] - centroids[j]); \n",
    "            if(curSum < minVal):\n",
    "                minVal = curSum;\n",
    "                mindex = j;\n",
    "        nearestIndex[i] = mindex;\n",
    "    \n",
    "    return nearestIndex; \n",
    "\n",
    "'''Places the Centroids at the mean position of their group'''\n",
    "def recomputeCentroids(X, indices, K):\n",
    "    centroids = np.zeros(K,X.shape[1]); \n",
    "    for i in range(K):\n",
    "        group = X[indices == i];\n",
    "        centroids[i] = np.mean(group,axis=0); \n",
    "    \n",
    "    return centroids; \n",
    "\n",
    "\n",
    "\n"
   ]
  }
 ],
 "metadata": {
  "kernelspec": {
   "display_name": "Python 3",
   "language": "python",
   "name": "python3"
  },
  "language_info": {
   "name": "python",
   "version": "3.10.9 (tags/v3.10.9:1dd9be6, Dec  6 2022, 20:01:21) [MSC v.1934 64 bit (AMD64)]"
  },
  "orig_nbformat": 4,
  "vscode": {
   "interpreter": {
    "hash": "aa3fa72d14023c227a2962925d480713013d21e6d6ba2c0b9424ec64da76a547"
   }
  }
 },
 "nbformat": 4,
 "nbformat_minor": 2
}
